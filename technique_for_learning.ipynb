{
 "cells": [
  {
   "cell_type": "markdown",
   "metadata": {},
   "source": [
    "## 学習に関するテクニック\n",
    "* パラメータの更新(損失関数の値をできるだけ小さくする)\n",
    "\n",
    "### SGD\n",
    "* lrが学習係数\n",
    "* Updateで繰り返し呼ばれる\n",
    "* 引数のparamsとgradsはディクショナリ変数\n",
    "\n",
    "### SGDの欠点\n",
    "* 次のような関数が与えられて最小値を求める場合\n",
    "$$f(x, y)=\\frac{1}{20}x^2+y^2$$\n",
    "\n",
    "* 関数の形状が等方的でないとスマートな学習にはならない"
   ]
  },
  {
   "cell_type": "code",
   "execution_count": 1,
   "metadata": {},
   "outputs": [],
   "source": [
    "class SGD:\n",
    "    def __init__(self, lr=0.01):\n",
    "        self.lr = lr\n",
    "        \n",
    "    def update(self, params, grads):\n",
    "        for key in parans.keys():\n",
    "            params[key] -= self.lr * grads[key]"
   ]
  },
  {
   "cell_type": "markdown",
   "metadata": {},
   "source": [
    "### Momentum\n",
    "\n",
    "$$v\\leftarrow\\alpha{v}-\\eta{\\frac{\\delta{L}}{\\delta{W}}}　$$\n",
    "$$W\\leftarrow W+v$$\n",
    "\n",
    "* Wは重みパラメータ右側はWに関する損失関数の勾配ηは学習係数\n",
    "* vとは物理では速度は表す。αvは物体が何も力を受けない時に徐々に減速していくための役割がある。"
   ]
  },
  {
   "cell_type": "code",
   "execution_count": 2,
   "metadata": {},
   "outputs": [],
   "source": [
    "class Momentum:\n",
    "    def __init__(self, lr=0.01, momentum=0.9):\n",
    "        self.lr = lr\n",
    "        self.momentum = momentum\n",
    "        self.v = None\n",
    "    def update(self, params, grads):\n",
    "        if self.v is None:\n",
    "            self.v = {}\n",
    "            for key, val in params.item():\n",
    "                self.v[key] = np.zeros_like(val)\n",
    "                \n",
    "        for key in params.keys():\n",
    "            self.v[key] = self.momentum * self.v[key] - self.lr * grads[key]\n",
    "            params[key] += v[key]"
   ]
  },
  {
   "cell_type": "markdown",
   "metadata": {},
   "source": [
    "### AdaGrad\n",
    "\n",
    "$$h \\leftarrow h+\\frac{\\delta{L}}{\\delta{W}} \\cdot \\frac{\\delta{L}}{\\delta{W}}$$\n",
    "$$W \\leftarrow W - \\eta{\\frac{1}{\\sqrt{h}}}\\frac{\\delta{L}}{\\delta{W}}$$\n",
    "\n",
    "* hとはこれまで経験した勾配の値を二乗和として保持する。\n",
    "* これをさらに改善した手法としてRMSPropがある。（過去の勾配を均一に加算するのではなく忘れていくという手法（新しい勾配が大きく反映する））"
   ]
  },
  {
   "cell_type": "code",
   "execution_count": 3,
   "metadata": {},
   "outputs": [],
   "source": [
    "class AdaGrad:\n",
    "    def __init__(self, lr=0.01):\n",
    "        self.lr = lr\n",
    "        self.h = None\n",
    "        \n",
    "    def update(self, params, grads):\n",
    "        if self.h is None:\n",
    "            self.h = {}\n",
    "            for key, val in params.items():\n",
    "                self.h[key] = np.zeros_like(val)\n",
    "                \n",
    "        for key in params.keys():\n",
    "            self.h[key] += grads[key] * grads[key]\n",
    "            params[key] -= self.lr * grads[key]  / (np.sqrt(self.h[key] + 1e-7))#1e-7はゼロで乗算するのを防ぐため"
   ]
  },
  {
   "cell_type": "markdown",
   "metadata": {},
   "source": [
    "### Adam\n",
    "* MomentumとAdaGradの融合\n",
    "##### Required:\n",
    "* α（学習係数）\n",
    "* β１・β２（指数関数的減衰）\n",
    "* m0(一つ目のモーメントベクター)\n",
    "* v0(指数関数的に重み付けされた無限大ノルム)\n",
    "\n",
    "$$m_t \\leftarrow \\beta_1 \\cdot m_{t-1} + (1 - \\beta_1) \\cdot g_t$$\n",
    "$$v_t \\leftarrow \\beta_2 \\cdot v_{t-1} + (1 - \\beta_2) \\cdot g_t^{2}$$\n",
    "\n",
    "$$\\alpha_t = \\alpha \\cdot \\sqrt{1 - \\beta_2^{t}} / (1 - \\beta_1{t})$$"
   ]
  },
  {
   "cell_type": "code",
   "execution_count": 4,
   "metadata": {},
   "outputs": [],
   "source": [
    "class Adam:\n",
    "    \n",
    "    '''https://arxiv.org/abs/1412.6980'''\n",
    "    \n",
    "    def __inti__(lr=0.001, beta1=0.9, beta2=0.999):\n",
    "        self.lr = lr\n",
    "        self.beta1 = beta1\n",
    "        self.beta2 = beta2\n",
    "        self.m = None\n",
    "        self.v = None\n",
    "        self.iter = 0\n",
    "        \n",
    "    def update(self, params, grads):\n",
    "        if self.m is None:\n",
    "            self.m, self.v = {}, {}\n",
    "            for key, val in params.items():\n",
    "                self.m[key] = np.zeros_like(val)\n",
    "                self.v[key] = np.zeors_like(val)\n",
    "        \n",
    "        for key in params.keys():\n",
    "            lr_t  = self.lr * np.sqrt(1.0 - self.beta2**self.iter) / (1.0 - self.beta1**self.iter)\n",
    "            self.m[key] += self.beta1 * self.m[key] + (1 - self.beta1) * grads[key]\n",
    "            self.v[key] += self.beta2 * self.v[key] + (1 - self.beta2) * (grads[key]**2)\n",
    "            \n",
    "            params[key] -= self.lr_t * self.m[key] / (np.sqrt(self.v[key]) + 1e-7)"
   ]
  },
  {
   "cell_type": "code",
   "execution_count": 5,
   "metadata": {},
   "outputs": [
    {
     "data": {
      "image/png": "[encoded data removed]",
      "text/plain": [
       "<Figure size 432x432 with 1 Axes>"
      ]
     },
     "metadata": {
      "needs_background": "light"
     },
     "output_type": "display_data"
    },
    {
     "data": {
      "image/png": "[encoded data removed]",
      "text/plain": [
       "<Figure size 432x432 with 1 Axes>"
      ]
     },
     "metadata": {
      "needs_background": "light"
     },
     "output_type": "display_data"
    },
    {
     "data": {
      "image/png": "[encoded data removed]",
      "text/plain": [
       "<Figure size 432x432 with 1 Axes>"
      ]
     },
     "metadata": {
      "needs_background": "light"
     },
     "output_type": "display_data"
    },
    {
     "data": {
      "image/png": "[encoded data removed]",
      "text/plain": [
       "<Figure size 432x432 with 1 Axes>"
      ]
     },
     "metadata": {
      "needs_background": "light"
     },
     "output_type": "display_data"
    }
   ],
   "source": [
    "# coding: utf-8\n",
    "import sys, os\n",
    "import numpy as np\n",
    "import matplotlib.pyplot as plt\n",
    "from collections import OrderedDict\n",
    "os.chdir(\"/work/basic_deeplearning/deep-learning-from-scratch-master/common\")\n",
    "from optimizer import *\n",
    "\n",
    "\n",
    "def f(x, y):\n",
    "    return x**2 / 20.0 + y**2\n",
    "\n",
    "\n",
    "def df(x, y):\n",
    "    return x / 10.0, 2.0*y\n",
    "\n",
    "init_pos = (-7.0, 2.0)\n",
    "params = {}\n",
    "params['x'], params['y'] = init_pos[0], init_pos[1]\n",
    "grads = {}\n",
    "grads['x'], grads['y'] = 0, 0\n",
    "\n",
    "\n",
    "optimizers = OrderedDict()\n",
    "optimizers[\"SGD\"] = SGD(lr=0.95)\n",
    "optimizers[\"Momentum\"] = Momentum(lr=0.1)\n",
    "optimizers[\"AdaGrad\"] = AdaGrad(lr=1.5)\n",
    "optimizers[\"Adam\"] = Adam(lr=0.3)\n",
    "\n",
    "idx = 1\n",
    "\n",
    "for key in optimizers:\n",
    "    optimizer = optimizers[key]\n",
    "    x_history = []\n",
    "    y_history = []\n",
    "    params['x'], params['y'] = init_pos[0], init_pos[1]\n",
    "    \n",
    "    for i in range(30):\n",
    "        x_history.append(params['x'])\n",
    "        y_history.append(params['y'])\n",
    "        \n",
    "        grads['x'], grads['y'] = df(params['x'], params['y'])\n",
    "        optimizer.update(params, grads)\n",
    "    \n",
    "\n",
    "    x = np.arange(-10, 10, 0.01)\n",
    "    y = np.arange(-5, 5, 0.01)\n",
    "    \n",
    "    X, Y = np.meshgrid(x, y) \n",
    "    Z = f(X, Y)\n",
    "    \n",
    "    # for simple contour line  \n",
    "    mask = Z > 7\n",
    "    Z[mask] = 0\n",
    "    \n",
    "    # plot \n",
    "    plt.figure(figsize=(6, 6))\n",
    "    plt.subplot(2, 2, idx)\n",
    "    idx += 1\n",
    "    plt.plot(x_history, y_history, 'o-', color=\"red\")\n",
    "    plt.contour(X, Y, Z)\n",
    "    plt.ylim(-10, 10)\n",
    "    plt.xlim(-10, 10)\n",
    "    plt.plot(0, 0, '+')\n",
    "    #colorbar()\n",
    "    #spring()\n",
    "    plt.title(key)\n",
    "    plt.xlabel(\"x\")\n",
    "    plt.ylabel(\"y\")\n",
    "plt.tight_layout()    \n",
    "plt.show()"
   ]
  },
  {
   "cell_type": "code",
   "execution_count": 6,
   "metadata": {},
   "outputs": [],
   "source": [
    "def sigmoid(x):\n",
    "    return 1 / (1 + np.exp(-x))\n",
    "def ReLU(x):\n",
    "    return np.maximum(0, x)\n",
    "def tanh(x):\n",
    "    return np.tanh(x)\n",
    "x = np.random.randn(10000, 100)\n",
    "node_num = 100\n",
    "hidden_layer_size = 5\n",
    "activations = {}"
   ]
  },
  {
   "cell_type": "code",
   "execution_count": 7,
   "metadata": {},
   "outputs": [],
   "source": [
    "for i in range(hidden_layer_size):\n",
    "    if i != 0:\n",
    "        x = activations[i - 1]\n",
    "    w = np.random.randn(node_num, node_num)   * 1\n",
    "    z = np.dot(x, w)\n",
    "    a = tanh(z)\n",
    "    activations[i] = a"
   ]
  },
  {
   "cell_type": "code",
   "execution_count": 8,
   "metadata": {},
   "outputs": [
    {
     "data": {
      "image/png": "[encoded data removed]",
      "text/plain": [
       "<Figure size 432x288 with 5 Axes>"
      ]
     },
     "metadata": {
      "needs_background": "light"
     },
     "output_type": "display_data"
    }
   ],
   "source": [
    "for i, a in activations.items():\n",
    "    plt.subplot(1, len(activations), i+1)\n",
    "    plt.title(str(i+1) + \"-layer\")\n",
    "    if i != 0: plt.yticks([], [])\n",
    "    # plt.xlim(0.1, 1)\n",
    "    # plt.ylim(0, 7000)\n",
    "    plt.hist(a.flatten(), 30, range=(0,1))\n",
    "plt.show()"
   ]
  },
  {
   "cell_type": "markdown",
   "metadata": {},
   "source": [
    "### 重みの初期値を０にする\n",
    "* 上記のアクティベーションは０と１に偏った分布になっている。\n",
    "* 逆伝播での勾配の値が徐々に小さくなりやがて勾配が消えてしまう。（勾配消失）\n",
    "\n",
    "### 初期値の設定\n",
    "* 活性化関数が線形（左右対称の場合）は**Xaiver**の初期値が有効\n",
    "* 活性化関数が非線形の場合は**He**の初期値が有効"
   ]
  },
  {
   "cell_type": "code",
   "execution_count": 9,
   "metadata": {},
   "outputs": [],
   "source": [
    "def plot_activations(function, weight):\n",
    "    x = np.random.randn(10000, 100)\n",
    "    node_num = 100\n",
    "    hidden_layer_size = 5\n",
    "    activations = {}\n",
    "    for i in range(hidden_layer_size):\n",
    "        if i != 0:\n",
    "            x = activations[i - 1]\n",
    "        w = weight\n",
    "        z = np.dot(x, w)\n",
    "        a = function(z)\n",
    "        activations[i] = a\n",
    "    for i, a in activations.items():\n",
    "        plt.subplot(1, len(activations), i+1)\n",
    "        plt.title(str(i+1) + \"-layer\")\n",
    "        if i != 0: plt.yticks([], [])\n",
    "        plt.xlim(0.1, 1)\n",
    "        plt.ylim(0, 100000)\n",
    "        plt.hist(a.flatten(), 30, range=(0,1))\n",
    "    plt.show()"
   ]
  },
  {
   "cell_type": "code",
   "execution_count": 10,
   "metadata": {},
   "outputs": [
    {
     "data": {
      "image/png": "[encoded data removed]",
      "text/plain": [
       "<Figure size 432x288 with 5 Axes>"
      ]
     },
     "metadata": {
      "needs_background": "light"
     },
     "output_type": "display_data"
    }
   ],
   "source": [
    "weight = [(np.random.randn(node_num, node_num) * 1), (np.random.randn(node_num, node_num) * 0.01),\n",
    "          (np.random.randn(node_num, node_num) * np.sqrt(1.0 / node_num)), \n",
    "          np.random.randn(node_num, node_num) * np.sqrt(2.0 / node_num)]\n",
    "function = [sigmoid, tanh, ReLU]\n",
    "\n",
    "plot_activations(function=function[0], weight=weight[1])#sigmoid関数と標準偏差0.0１を重みの初期値とした場合の分布"
   ]
  },
  {
   "cell_type": "code",
   "execution_count": 11,
   "metadata": {},
   "outputs": [
    {
     "data": {
      "image/png": "[encoded data removed]",
      "text/plain": [
       "<Figure size 432x288 with 5 Axes>"
      ]
     },
     "metadata": {
      "needs_background": "light"
     },
     "output_type": "display_data"
    }
   ],
   "source": [
    "plot_activations(function=function[0], weight=weight[2])#sigmoid関数とXavierの初期値を使用した場合の分布"
   ]
  },
  {
   "cell_type": "code",
   "execution_count": 12,
   "metadata": {},
   "outputs": [
    {
     "data": {
      "image/png": "[encoded data removed]",
      "text/plain": [
       "<Figure size 432x288 with 5 Axes>"
      ]
     },
     "metadata": {
      "needs_background": "light"
     },
     "output_type": "display_data"
    }
   ],
   "source": [
    "plot_activations(function=function[1], weight=weight[2])#tanh関数とXaiverの初期値を用いたときのアクティベーションの分布"
   ]
  },
  {
   "cell_type": "code",
   "execution_count": 13,
   "metadata": {},
   "outputs": [
    {
     "data": {
      "image/png": "[encoded data removed]",
      "text/plain": [
       "<Figure size 432x288 with 5 Axes>"
      ]
     },
     "metadata": {
      "needs_background": "light"
     },
     "output_type": "display_data"
    },
    {
     "data": {
      "image/png": "[encoded data removed]",
      "text/plain": [
       "<Figure size 432x288 with 5 Axes>"
      ]
     },
     "metadata": {
      "needs_background": "light"
     },
     "output_type": "display_data"
    },
    {
     "data": {
      "image/png": "[encoded data removed]",
      "text/plain": [
       "<Figure size 432x288 with 5 Axes>"
      ]
     },
     "metadata": {
      "needs_background": "light"
     },
     "output_type": "display_data"
    }
   ],
   "source": [
    "plot_activations(function=function[2], weight=weight[1])\n",
    "plot_activations(function=function[2], weight=weight[2])#ReLU関数とXavierの初期値を使用した場合\n",
    "plot_activations(function=function[2], weight=weight[3])#ReLU関数とHeの初期値を使用した場合"
   ]
  },
  {
   "cell_type": "code",
   "execution_count": 14,
   "metadata": {},
   "outputs": [
    {
     "name": "stdout",
     "output_type": "stream",
     "text": [
      "===========iteration:0===========\n",
      "std=0.01:2.302546156801715\n",
      "Xavier:2.294314706901295\n",
      "He:2.4332184248623445\n",
      "===========iteration:500===========\n",
      "std=0.01:2.3002050226595596\n",
      "Xavier:1.0166416573995314\n",
      "He:0.427541144138306\n",
      "===========iteration:1000===========\n",
      "std=0.01:2.2949259067917644\n",
      "Xavier:0.45412413719082845\n",
      "He:0.371386345654512\n",
      "===========iteration:1500===========\n",
      "std=0.01:2.3071466725763132\n",
      "Xavier:0.3733598415431839\n",
      "He:0.22407903532656953\n"
     ]
    },
    {
     "data": {
      "image/png": "[encoded data removed]",
      "text/plain": [
       "<Figure size 432x288 with 1 Axes>"
      ]
     },
     "metadata": {
      "needs_background": "light"
     },
     "output_type": "display_data"
    }
   ],
   "source": [
    "os.chdir(\"/work/basic_deeplearning/deep-learning-from-scratch-master\")\n",
    "from dataset.mnist import load_mnist\n",
    "from common.util import smooth_curve\n",
    "from common.multi_layer_net import MultiLayerNet\n",
    "from common.optimizer import SGD\n",
    "\n",
    "\n",
    "# 0:MNISTデータの読み込み==========\n",
    "(x_train, t_train), (x_test, t_test) = load_mnist(normalize=True)\n",
    "\n",
    "train_size = x_train.shape[0]\n",
    "batch_size = 128\n",
    "max_iterations = 2000\n",
    "\n",
    "\n",
    "# 1:実験の設定==========\n",
    "weight_init_types = {'std=0.01': 0.01, 'Xavier': 'sigmoid', 'He': 'relu'}\n",
    "optimizer = SGD(lr=0.01)\n",
    "\n",
    "networks = {}\n",
    "train_loss = {}\n",
    "for key, weight_type in weight_init_types.items():\n",
    "    networks[key] = MultiLayerNet(input_size=784, hidden_size_list=[100, 100, 100, 100],\n",
    "                                  output_size=10, weight_init_std=weight_type)\n",
    "    train_loss[key] = []\n",
    "\n",
    "\n",
    "# 2:訓練の開始==========\n",
    "for i in range(max_iterations):\n",
    "    batch_mask = np.random.choice(train_size, batch_size)\n",
    "    x_batch = x_train[batch_mask]\n",
    "    t_batch = t_train[batch_mask]\n",
    "    \n",
    "    for key in weight_init_types.keys():\n",
    "        grads = networks[key].gradient(x_batch, t_batch)\n",
    "        optimizer.update(networks[key].params, grads)\n",
    "    \n",
    "        loss = networks[key].loss(x_batch, t_batch)\n",
    "        train_loss[key].append(loss)\n",
    "    \n",
    "    if i % 500 == 0:\n",
    "        print(\"===========\" + \"iteration:\" + str(i) + \"===========\")\n",
    "        for key in weight_init_types.keys():\n",
    "            loss = networks[key].loss(x_batch, t_batch)\n",
    "            print(key + \":\" + str(loss))\n",
    "\n",
    "\n",
    "# 3.グラフの描画==========\n",
    "markers = {'std=0.01': 'o', 'Xavier': 's', 'He': 'D'}\n",
    "x = np.arange(max_iterations)\n",
    "for key in weight_init_types.keys():\n",
    "    plt.plot(x, smooth_curve(train_loss[key]), marker=markers[key], markevery=100, label=key)\n",
    "plt.xlabel(\"iterations\")\n",
    "plt.ylabel(\"loss\")\n",
    "plt.ylim(0, 2.5)\n",
    "plt.legend()\n",
    "plt.show()"
   ]
  },
  {
   "cell_type": "markdown",
   "metadata": {},
   "source": [
    "### Batch Normalization\n",
    "#### なぜBatch Normalizationが有効か\n",
    "* 学習を速く進行させることができる\n",
    "* 初期値にそれほど依存しない\n",
    "* 過学習を抑制する"
   ]
  },
  {
   "cell_type": "code",
   "execution_count": 15,
   "metadata": {},
   "outputs": [
    {
     "name": "stdout",
     "output_type": "stream",
     "text": [
      "============== 1/16 ==============\n",
      "epoch:0 | 0.093 - 0.095\n"
     ]
    },
    {
     "name": "stderr",
     "output_type": "stream",
     "text": [
      "/work/basic_deeplearning/deep-learning-from-scratch-master/common/multi_layer_net_extend.py:101: RuntimeWarning: overflow encountered in square\n",
      "  weight_decay += 0.5 * self.weight_decay_lambda * np.sum(W**2)\n",
      "/work/basic_deeplearning/deep-learning-from-scratch-master/common/multi_layer_net_extend.py:101: RuntimeWarning: invalid value encountered in double_scalars\n",
      "  weight_decay += 0.5 * self.weight_decay_lambda * np.sum(W**2)\n",
      "/opt/anaconda3/lib/python3.7/site-packages/numpy/core/fromnumeric.py:90: RuntimeWarning: overflow encountered in reduce\n",
      "  return ufunc.reduce(obj, axis, dtype, out, **passkwargs)\n",
      "/work/basic_deeplearning/deep-learning-from-scratch-master/common/functions.py:32: RuntimeWarning: invalid value encountered in subtract\n",
      "  x = x - np.max(x, axis=-1, keepdims=True)   # オーバーフロー対策\n",
      "/work/basic_deeplearning/deep-learning-from-scratch-master/common/layers.py:12: RuntimeWarning: invalid value encountered in less_equal\n",
      "  self.mask = (x <= 0)\n"
     ]
    },
    {
     "name": "stdout",
     "output_type": "stream",
     "text": [
      "epoch:1 | 0.097 - 0.123\n",
      "epoch:2 | 0.097 - 0.12\n",
      "epoch:3 | 0.097 - 0.13\n",
      "epoch:4 | 0.097 - 0.158\n",
      "epoch:5 | 0.097 - 0.18\n",
      "epoch:6 | 0.097 - 0.2\n",
      "epoch:7 | 0.097 - 0.225\n",
      "epoch:8 | 0.097 - 0.241\n",
      "epoch:9 | 0.097 - 0.269\n",
      "epoch:10 | 0.097 - 0.292\n",
      "epoch:11 | 0.097 - 0.312\n",
      "epoch:12 | 0.097 - 0.335\n",
      "epoch:13 | 0.097 - 0.336\n",
      "epoch:14 | 0.097 - 0.364\n",
      "epoch:15 | 0.097 - 0.374\n",
      "epoch:16 | 0.097 - 0.396\n",
      "epoch:17 | 0.097 - 0.41\n",
      "epoch:18 | 0.097 - 0.421\n"
     ]
    },
    {
     "name": "stderr",
     "output_type": "stream",
     "text": [
      "No handles with labels found to put in legend.\n"
     ]
    },
    {
     "name": "stdout",
     "output_type": "stream",
     "text": [
      "epoch:19 | 0.097 - 0.437\n",
      "============== 2/16 ==============\n",
      "epoch:0 | 0.105 - 0.078\n"
     ]
    },
    {
     "name": "stderr",
     "output_type": "stream",
     "text": [
      "/work/basic_deeplearning/deep-learning-from-scratch-master/common/multi_layer_net_extend.py:101: RuntimeWarning: overflow encountered in square\n",
      "  weight_decay += 0.5 * self.weight_decay_lambda * np.sum(W**2)\n",
      "/work/basic_deeplearning/deep-learning-from-scratch-master/common/multi_layer_net_extend.py:101: RuntimeWarning: invalid value encountered in double_scalars\n",
      "  weight_decay += 0.5 * self.weight_decay_lambda * np.sum(W**2)\n",
      "/opt/anaconda3/lib/python3.7/site-packages/numpy/core/fromnumeric.py:90: RuntimeWarning: overflow encountered in reduce\n",
      "  return ufunc.reduce(obj, axis, dtype, out, **passkwargs)\n"
     ]
    },
    {
     "name": "stdout",
     "output_type": "stream",
     "text": [
      "epoch:1 | 0.099 - 0.089\n",
      "epoch:2 | 0.099 - 0.134\n",
      "epoch:3 | 0.099 - 0.166\n",
      "epoch:4 | 0.116 - 0.193\n",
      "epoch:5 | 0.116 - 0.21\n",
      "epoch:6 | 0.116 - 0.231\n",
      "epoch:7 | 0.116 - 0.251\n",
      "epoch:8 | 0.116 - 0.275\n",
      "epoch:9 | 0.116 - 0.299\n",
      "epoch:10 | 0.116 - 0.319\n",
      "epoch:11 | 0.116 - 0.346\n",
      "epoch:12 | 0.116 - 0.366\n",
      "epoch:13 | 0.116 - 0.385\n",
      "epoch:14 | 0.116 - 0.416\n",
      "epoch:15 | 0.116 - 0.43\n",
      "epoch:16 | 0.116 - 0.44\n",
      "epoch:17 | 0.116 - 0.454\n",
      "epoch:18 | 0.116 - 0.471\n"
     ]
    },
    {
     "name": "stderr",
     "output_type": "stream",
     "text": [
      "No handles with labels found to put in legend.\n"
     ]
    },
    {
     "name": "stdout",
     "output_type": "stream",
     "text": [
      "epoch:19 | 0.116 - 0.486\n",
      "============== 3/16 ==============\n",
      "epoch:0 | 0.089 - 0.077\n",
      "epoch:1 | 0.263 - 0.094\n",
      "epoch:2 | 0.434 - 0.145\n",
      "epoch:3 | 0.523 - 0.181\n",
      "epoch:4 | 0.585 - 0.212\n",
      "epoch:5 | 0.63 - 0.257\n",
      "epoch:6 | 0.697 - 0.291\n",
      "epoch:7 | 0.729 - 0.332\n",
      "epoch:8 | 0.78 - 0.362\n",
      "epoch:9 | 0.81 - 0.395\n",
      "epoch:10 | 0.825 - 0.421\n",
      "epoch:11 | 0.844 - 0.464\n",
      "epoch:12 | 0.87 - 0.493\n",
      "epoch:13 | 0.872 - 0.513\n",
      "epoch:14 | 0.895 - 0.54\n",
      "epoch:15 | 0.901 - 0.556\n",
      "epoch:16 | 0.919 - 0.58\n",
      "epoch:17 | 0.924 - 0.607\n",
      "epoch:18 | 0.927 - 0.625\n"
     ]
    },
    {
     "name": "stderr",
     "output_type": "stream",
     "text": [
      "No handles with labels found to put in legend.\n"
     ]
    },
    {
     "name": "stdout",
     "output_type": "stream",
     "text": [
      "epoch:19 | 0.937 - 0.655\n",
      "============== 4/16 ==============\n",
      "epoch:0 | 0.116 - 0.072\n",
      "epoch:1 | 0.261 - 0.103\n",
      "epoch:2 | 0.393 - 0.177\n",
      "epoch:3 | 0.478 - 0.25\n",
      "epoch:4 | 0.541 - 0.326\n",
      "epoch:5 | 0.596 - 0.397\n",
      "epoch:6 | 0.633 - 0.442\n",
      "epoch:7 | 0.676 - 0.498\n",
      "epoch:8 | 0.68 - 0.527\n",
      "epoch:9 | 0.713 - 0.563\n",
      "epoch:10 | 0.742 - 0.605\n",
      "epoch:11 | 0.748 - 0.629\n",
      "epoch:12 | 0.765 - 0.662\n",
      "epoch:13 | 0.775 - 0.677\n",
      "epoch:14 | 0.796 - 0.706\n",
      "epoch:15 | 0.812 - 0.718\n",
      "epoch:16 | 0.822 - 0.743\n",
      "epoch:17 | 0.84 - 0.75\n",
      "epoch:18 | 0.846 - 0.765\n"
     ]
    },
    {
     "name": "stderr",
     "output_type": "stream",
     "text": [
      "No handles with labels found to put in legend.\n"
     ]
    },
    {
     "name": "stdout",
     "output_type": "stream",
     "text": [
      "epoch:19 | 0.849 - 0.783\n",
      "============== 5/16 ==============\n",
      "epoch:0 | 0.099 - 0.076\n",
      "epoch:1 | 0.099 - 0.169\n",
      "epoch:2 | 0.1 - 0.308\n",
      "epoch:3 | 0.1 - 0.433\n",
      "epoch:4 | 0.102 - 0.509\n",
      "epoch:5 | 0.105 - 0.568\n",
      "epoch:6 | 0.105 - 0.62\n",
      "epoch:7 | 0.112 - 0.669\n",
      "epoch:8 | 0.122 - 0.704\n",
      "epoch:9 | 0.129 - 0.722\n",
      "epoch:10 | 0.143 - 0.744\n",
      "epoch:11 | 0.168 - 0.774\n",
      "epoch:12 | 0.188 - 0.792\n",
      "epoch:13 | 0.217 - 0.797\n",
      "epoch:14 | 0.228 - 0.816\n",
      "epoch:15 | 0.264 - 0.826\n",
      "epoch:16 | 0.275 - 0.843\n",
      "epoch:17 | 0.303 - 0.847\n",
      "epoch:18 | 0.317 - 0.865\n"
     ]
    },
    {
     "name": "stderr",
     "output_type": "stream",
     "text": [
      "No handles with labels found to put in legend.\n"
     ]
    },
    {
     "name": "stdout",
     "output_type": "stream",
     "text": [
      "epoch:19 | 0.331 - 0.868\n",
      "============== 6/16 ==============\n",
      "epoch:0 | 0.137 - 0.068\n",
      "epoch:1 | 0.146 - 0.161\n",
      "epoch:2 | 0.116 - 0.467\n",
      "epoch:3 | 0.116 - 0.616\n",
      "epoch:4 | 0.116 - 0.69\n",
      "epoch:5 | 0.116 - 0.744\n",
      "epoch:6 | 0.128 - 0.779\n",
      "epoch:7 | 0.128 - 0.814\n",
      "epoch:8 | 0.116 - 0.837\n",
      "epoch:9 | 0.116 - 0.859\n",
      "epoch:10 | 0.116 - 0.88\n",
      "epoch:11 | 0.116 - 0.885\n",
      "epoch:12 | 0.116 - 0.903\n",
      "epoch:13 | 0.116 - 0.906\n",
      "epoch:14 | 0.116 - 0.912\n",
      "epoch:15 | 0.116 - 0.92\n",
      "epoch:16 | 0.118 - 0.931\n",
      "epoch:17 | 0.119 - 0.94\n",
      "epoch:18 | 0.171 - 0.946\n"
     ]
    },
    {
     "name": "stderr",
     "output_type": "stream",
     "text": [
      "No handles with labels found to put in legend.\n"
     ]
    },
    {
     "name": "stdout",
     "output_type": "stream",
     "text": [
      "epoch:19 | 0.137 - 0.95\n",
      "============== 7/16 ==============\n",
      "epoch:0 | 0.06 - 0.111\n",
      "epoch:1 | 0.117 - 0.244\n",
      "epoch:2 | 0.117 - 0.529\n",
      "epoch:3 | 0.117 - 0.658\n",
      "epoch:4 | 0.117 - 0.739\n",
      "epoch:5 | 0.117 - 0.782\n",
      "epoch:6 | 0.117 - 0.81\n",
      "epoch:7 | 0.117 - 0.842\n",
      "epoch:8 | 0.117 - 0.876\n",
      "epoch:9 | 0.117 - 0.894\n",
      "epoch:10 | 0.117 - 0.912\n",
      "epoch:11 | 0.117 - 0.924\n",
      "epoch:12 | 0.117 - 0.939\n",
      "epoch:13 | 0.117 - 0.949\n",
      "epoch:14 | 0.117 - 0.957\n",
      "epoch:15 | 0.117 - 0.967\n",
      "epoch:16 | 0.117 - 0.971\n",
      "epoch:17 | 0.117 - 0.979\n",
      "epoch:18 | 0.117 - 0.984\n",
      "epoch:19 | 0.117 - 0.986\n"
     ]
    },
    {
     "name": "stderr",
     "output_type": "stream",
     "text": [
      "No handles with labels found to put in legend.\n"
     ]
    },
    {
     "name": "stdout",
     "output_type": "stream",
     "text": [
      "============== 8/16 ==============\n",
      "epoch:0 | 0.092 - 0.169\n",
      "epoch:1 | 0.117 - 0.478\n",
      "epoch:2 | 0.117 - 0.676\n",
      "epoch:3 | 0.117 - 0.729\n",
      "epoch:4 | 0.116 - 0.78\n",
      "epoch:5 | 0.116 - 0.85\n",
      "epoch:6 | 0.116 - 0.881\n",
      "epoch:7 | 0.116 - 0.916\n",
      "epoch:8 | 0.116 - 0.946\n",
      "epoch:9 | 0.116 - 0.968\n",
      "epoch:10 | 0.116 - 0.98\n",
      "epoch:11 | 0.116 - 0.989\n",
      "epoch:12 | 0.116 - 0.993\n",
      "epoch:13 | 0.117 - 0.993\n",
      "epoch:14 | 0.117 - 0.995\n",
      "epoch:15 | 0.117 - 0.995\n",
      "epoch:16 | 0.117 - 0.998\n",
      "epoch:17 | 0.117 - 0.999\n",
      "epoch:18 | 0.117 - 1.0\n"
     ]
    },
    {
     "name": "stderr",
     "output_type": "stream",
     "text": [
      "No handles with labels found to put in legend.\n"
     ]
    },
    {
     "name": "stdout",
     "output_type": "stream",
     "text": [
      "epoch:19 | 0.117 - 1.0\n",
      "============== 9/16 ==============\n",
      "epoch:0 | 0.117 - 0.075\n",
      "epoch:1 | 0.116 - 0.402\n",
      "epoch:2 | 0.116 - 0.689\n",
      "epoch:3 | 0.116 - 0.791\n",
      "epoch:4 | 0.116 - 0.833\n",
      "epoch:5 | 0.116 - 0.866\n",
      "epoch:6 | 0.116 - 0.884\n",
      "epoch:7 | 0.117 - 0.927\n",
      "epoch:8 | 0.117 - 0.954\n",
      "epoch:9 | 0.117 - 0.964\n",
      "epoch:10 | 0.117 - 0.989\n",
      "epoch:11 | 0.117 - 0.988\n",
      "epoch:12 | 0.117 - 0.994\n",
      "epoch:13 | 0.117 - 0.998\n",
      "epoch:14 | 0.117 - 0.999\n",
      "epoch:15 | 0.117 - 0.999\n",
      "epoch:16 | 0.117 - 0.999\n",
      "epoch:17 | 0.117 - 0.999\n",
      "epoch:18 | 0.117 - 0.999\n",
      "epoch:19 | 0.117 - 1.0\n"
     ]
    },
    {
     "name": "stderr",
     "output_type": "stream",
     "text": [
      "No handles with labels found to put in legend.\n"
     ]
    },
    {
     "name": "stdout",
     "output_type": "stream",
     "text": [
      "============== 10/16 ==============\n",
      "epoch:0 | 0.117 - 0.11\n",
      "epoch:1 | 0.116 - 0.35\n",
      "epoch:2 | 0.117 - 0.765\n",
      "epoch:3 | 0.117 - 0.877\n",
      "epoch:4 | 0.117 - 0.918\n",
      "epoch:5 | 0.116 - 0.931\n",
      "epoch:6 | 0.116 - 0.935\n",
      "epoch:7 | 0.116 - 0.972\n",
      "epoch:8 | 0.116 - 0.944\n",
      "epoch:9 | 0.116 - 0.986\n",
      "epoch:10 | 0.116 - 0.992\n",
      "epoch:11 | 0.116 - 0.995\n",
      "epoch:12 | 0.116 - 0.994\n",
      "epoch:13 | 0.116 - 0.995\n",
      "epoch:14 | 0.116 - 0.997\n",
      "epoch:15 | 0.116 - 0.997\n",
      "epoch:16 | 0.116 - 0.997\n",
      "epoch:17 | 0.116 - 0.998\n",
      "epoch:18 | 0.116 - 0.996\n"
     ]
    },
    {
     "name": "stderr",
     "output_type": "stream",
     "text": [
      "No handles with labels found to put in legend.\n"
     ]
    },
    {
     "name": "stdout",
     "output_type": "stream",
     "text": [
      "epoch:19 | 0.116 - 0.998\n",
      "============== 11/16 ==============\n",
      "epoch:0 | 0.099 - 0.129\n",
      "epoch:1 | 0.116 - 0.693\n",
      "epoch:2 | 0.117 - 0.721\n",
      "epoch:3 | 0.116 - 0.746\n",
      "epoch:4 | 0.117 - 0.75\n",
      "epoch:5 | 0.117 - 0.785\n",
      "epoch:6 | 0.117 - 0.777\n",
      "epoch:7 | 0.117 - 0.801\n",
      "epoch:8 | 0.117 - 0.879\n",
      "epoch:9 | 0.117 - 0.942\n",
      "epoch:10 | 0.117 - 0.921\n",
      "epoch:11 | 0.117 - 0.979\n",
      "epoch:12 | 0.117 - 0.975\n",
      "epoch:13 | 0.117 - 0.878\n",
      "epoch:14 | 0.117 - 0.977\n",
      "epoch:15 | 0.117 - 0.989\n",
      "epoch:16 | 0.117 - 0.983\n",
      "epoch:17 | 0.117 - 0.991\n"
     ]
    },
    {
     "name": "stderr",
     "output_type": "stream",
     "text": [
      "No handles with labels found to put in legend.\n"
     ]
    },
    {
     "name": "stdout",
     "output_type": "stream",
     "text": [
      "epoch:18 | 0.117 - 0.991\n",
      "epoch:19 | 0.117 - 0.995\n",
      "============== 12/16 ==============\n",
      "epoch:0 | 0.093 - 0.156\n",
      "epoch:1 | 0.117 - 0.583\n",
      "epoch:2 | 0.117 - 0.607\n",
      "epoch:3 | 0.117 - 0.692\n",
      "epoch:4 | 0.117 - 0.725\n",
      "epoch:5 | 0.117 - 0.696\n",
      "epoch:6 | 0.117 - 0.675\n",
      "epoch:7 | 0.117 - 0.761\n",
      "epoch:8 | 0.117 - 0.755\n",
      "epoch:9 | 0.117 - 0.777\n",
      "epoch:10 | 0.117 - 0.644\n",
      "epoch:11 | 0.117 - 0.801\n",
      "epoch:12 | 0.117 - 0.796\n",
      "epoch:13 | 0.117 - 0.8\n",
      "epoch:14 | 0.117 - 0.801\n",
      "epoch:15 | 0.117 - 0.8\n",
      "epoch:16 | 0.117 - 0.801\n",
      "epoch:17 | 0.117 - 0.799\n",
      "epoch:18 | 0.117 - 0.802\n"
     ]
    },
    {
     "name": "stderr",
     "output_type": "stream",
     "text": [
      "No handles with labels found to put in legend.\n"
     ]
    },
    {
     "name": "stdout",
     "output_type": "stream",
     "text": [
      "epoch:19 | 0.117 - 0.801\n",
      "============== 13/16 ==============\n",
      "epoch:0 | 0.117 - 0.104\n",
      "epoch:1 | 0.117 - 0.547\n",
      "epoch:2 | 0.116 - 0.483\n",
      "epoch:3 | 0.116 - 0.57\n",
      "epoch:4 | 0.116 - 0.57\n",
      "epoch:5 | 0.116 - 0.577\n",
      "epoch:6 | 0.116 - 0.59\n",
      "epoch:7 | 0.117 - 0.604\n",
      "epoch:8 | 0.116 - 0.607\n",
      "epoch:9 | 0.116 - 0.591\n",
      "epoch:10 | 0.116 - 0.618\n",
      "epoch:11 | 0.116 - 0.627\n",
      "epoch:12 | 0.116 - 0.617\n",
      "epoch:13 | 0.116 - 0.531\n",
      "epoch:14 | 0.116 - 0.615\n",
      "epoch:15 | 0.116 - 0.62\n",
      "epoch:16 | 0.116 - 0.615\n",
      "epoch:17 | 0.117 - 0.616\n",
      "epoch:18 | 0.116 - 0.617\n"
     ]
    },
    {
     "name": "stderr",
     "output_type": "stream",
     "text": [
      "No handles with labels found to put in legend.\n"
     ]
    },
    {
     "name": "stdout",
     "output_type": "stream",
     "text": [
      "epoch:19 | 0.116 - 0.617\n",
      "============== 14/16 ==============\n",
      "epoch:0 | 0.097 - 0.131\n",
      "epoch:1 | 0.099 - 0.4\n",
      "epoch:2 | 0.097 - 0.454\n",
      "epoch:3 | 0.097 - 0.495\n",
      "epoch:4 | 0.117 - 0.522\n",
      "epoch:5 | 0.117 - 0.524\n",
      "epoch:6 | 0.117 - 0.521\n",
      "epoch:7 | 0.117 - 0.524\n",
      "epoch:8 | 0.116 - 0.526\n",
      "epoch:9 | 0.117 - 0.531\n",
      "epoch:10 | 0.117 - 0.597\n",
      "epoch:11 | 0.117 - 0.592\n",
      "epoch:12 | 0.117 - 0.622\n",
      "epoch:13 | 0.116 - 0.592\n",
      "epoch:14 | 0.116 - 0.622\n",
      "epoch:15 | 0.116 - 0.595\n",
      "epoch:16 | 0.116 - 0.681\n",
      "epoch:17 | 0.117 - 0.663\n",
      "epoch:18 | 0.117 - 0.684\n"
     ]
    },
    {
     "name": "stderr",
     "output_type": "stream",
     "text": [
      "No handles with labels found to put in legend.\n"
     ]
    },
    {
     "name": "stdout",
     "output_type": "stream",
     "text": [
      "epoch:19 | 0.117 - 0.7\n",
      "============== 15/16 ==============\n",
      "epoch:0 | 0.097 - 0.097\n",
      "epoch:1 | 0.093 - 0.241\n",
      "epoch:2 | 0.116 - 0.259\n",
      "epoch:3 | 0.116 - 0.296\n",
      "epoch:4 | 0.116 - 0.361\n",
      "epoch:5 | 0.116 - 0.401\n",
      "epoch:6 | 0.116 - 0.392\n",
      "epoch:7 | 0.116 - 0.405\n",
      "epoch:8 | 0.117 - 0.46\n",
      "epoch:9 | 0.116 - 0.516\n",
      "epoch:10 | 0.116 - 0.516\n",
      "epoch:11 | 0.116 - 0.519\n",
      "epoch:12 | 0.116 - 0.523\n",
      "epoch:13 | 0.116 - 0.518\n",
      "epoch:14 | 0.116 - 0.523\n",
      "epoch:15 | 0.116 - 0.523\n",
      "epoch:16 | 0.116 - 0.523\n",
      "epoch:17 | 0.116 - 0.523\n",
      "epoch:18 | 0.116 - 0.523\n"
     ]
    },
    {
     "name": "stderr",
     "output_type": "stream",
     "text": [
      "No handles with labels found to put in legend.\n"
     ]
    },
    {
     "name": "stdout",
     "output_type": "stream",
     "text": [
      "epoch:19 | 0.116 - 0.523\n",
      "============== 16/16 ==============\n",
      "epoch:0 | 0.116 - 0.245\n",
      "epoch:1 | 0.116 - 0.302\n",
      "epoch:2 | 0.116 - 0.304\n",
      "epoch:3 | 0.117 - 0.348\n",
      "epoch:4 | 0.117 - 0.377\n",
      "epoch:5 | 0.117 - 0.369\n",
      "epoch:6 | 0.117 - 0.329\n",
      "epoch:7 | 0.117 - 0.34\n",
      "epoch:8 | 0.117 - 0.395\n",
      "epoch:9 | 0.117 - 0.339\n",
      "epoch:10 | 0.117 - 0.316\n",
      "epoch:11 | 0.117 - 0.324\n",
      "epoch:12 | 0.117 - 0.329\n",
      "epoch:13 | 0.117 - 0.316\n",
      "epoch:14 | 0.117 - 0.307\n",
      "epoch:15 | 0.117 - 0.312\n",
      "epoch:16 | 0.117 - 0.41\n",
      "epoch:17 | 0.117 - 0.41\n",
      "epoch:18 | 0.117 - 0.408\n",
      "epoch:19 | 0.117 - 0.455\n"
     ]
    },
    {
     "data": {
      "image/png": "[encoded data removed]",
      "text/plain": [
       "<Figure size 432x288 with 1 Axes>"
      ]
     },
     "metadata": {
      "needs_background": "light"
     },
     "output_type": "display_data"
    },
    {
     "data": {
      "image/png": "[encoded data removed]",
      "text/plain": [
       "<Figure size 288x288 with 1 Axes>"
      ]
     },
     "metadata": {
      "needs_background": "light"
     },
     "output_type": "display_data"
    },
    {
     "data": {
      "image/png": "[encoded data removed]",
      "text/plain": [
       "<Figure size 288x288 with 1 Axes>"
      ]
     },
     "metadata": {
      "needs_background": "light"
     },
     "output_type": "display_data"
    },
    {
     "data": {
      "image/png": "[encoded data removed]",
      "text/plain": [
       "<Figure size 288x288 with 1 Axes>"
      ]
     },
     "metadata": {
      "needs_background": "light"
     },
     "output_type": "display_data"
    },
    {
     "data": {
      "image/png": "[encoded data removed]",
      "text/plain": [
       "<Figure size 288x288 with 1 Axes>"
      ]
     },
     "metadata": {
      "needs_background": "light"
     },
     "output_type": "display_data"
    },
    {
     "data": {
      "image/png": "[encoded data removed]",
      "text/plain": [
       "<Figure size 288x288 with 1 Axes>"
      ]
     },
     "metadata": {
      "needs_background": "light"
     },
     "output_type": "display_data"
    },
    {
     "data": {
      "image/png": "[encoded data removed]",
      "text/plain": [
       "<Figure size 288x288 with 1 Axes>"
      ]
     },
     "metadata": {
      "needs_background": "light"
     },
     "output_type": "display_data"
    },
    {
     "data": {
      "image/png": "[encoded data removed]",
      "text/plain": [
       "<Figure size 288x288 with 1 Axes>"
      ]
     },
     "metadata": {
      "needs_background": "light"
     },
     "output_type": "display_data"
    },
    {
     "data": {
      "image/png": "[encoded data removed]",
      "text/plain": [
       "<Figure size 288x288 with 1 Axes>"
      ]
     },
     "metadata": {
      "needs_background": "light"
     },
     "output_type": "display_data"
    },
    {
     "data": {
      "image/png": "[encoded data removed]",
      "text/plain": [
       "<Figure size 288x288 with 1 Axes>"
      ]
     },
     "metadata": {
      "needs_background": "light"
     },
     "output_type": "display_data"
    },
    {
     "data": {
      "image/png": "[encoded data removed]",
      "text/plain": [
       "<Figure size 288x288 with 1 Axes>"
      ]
     },
     "metadata": {
      "needs_background": "light"
     },
     "output_type": "display_data"
    },
    {
     "data": {
      "image/png": "[encoded data removed]",
      "text/plain": [
       "<Figure size 288x288 with 1 Axes>"
      ]
     },
     "metadata": {
      "needs_background": "light"
     },
     "output_type": "display_data"
    },
    {
     "data": {
      "image/png": "[encoded data removed]",
      "text/plain": [
       "<Figure size 288x288 with 1 Axes>"
      ]
     },
     "metadata": {
      "needs_background": "light"
     },
     "output_type": "display_data"
    },
    {
     "data": {
      "image/png": "[encoded data removed]",
      "text/plain": [
       "<Figure size 288x288 with 1 Axes>"
      ]
     },
     "metadata": {
      "needs_background": "light"
     },
     "output_type": "display_data"
    },
    {
     "data": {
      "image/png": "[encoded data removed]",
      "text/plain": [
       "<Figure size 288x288 with 1 Axes>"
      ]
     },
     "metadata": {
      "needs_background": "light"
     },
     "output_type": "display_data"
    },
    {
     "data": {
      "image/png": "[encoded data removed]",
      "text/plain": [
       "<Figure size 288x288 with 1 Axes>"
      ]
     },
     "metadata": {
      "needs_background": "light"
     },
     "output_type": "display_data"
    },
    {
     "data": {
      "image/png": "[encoded data removed]",
      "text/plain": [
       "<Figure size 288x288 with 1 Axes>"
      ]
     },
     "metadata": {
      "needs_background": "light"
     },
     "output_type": "display_data"
    }
   ],
   "source": [
    "from dataset.mnist import load_mnist\n",
    "from common.multi_layer_net_extend import MultiLayerNetExtend\n",
    "from common.optimizer import SGD, Adam\n",
    "\n",
    "(x_train, t_train), (x_test, t_test) = load_mnist(normalize=True)\n",
    "\n",
    "# 学習データを削減\n",
    "x_train = x_train[:1000]\n",
    "t_train = t_train[:1000]\n",
    "\n",
    "max_epochs = 20\n",
    "train_size = x_train.shape[0]\n",
    "batch_size = 100\n",
    "learning_rate = 0.01\n",
    "\n",
    "\n",
    "def __train(weight_init_std):\n",
    "    bn_network = MultiLayerNetExtend(input_size=784, hidden_size_list=[100, 100, 100, 100, 100], output_size=10, \n",
    "                                    weight_init_std=weight_init_std, use_batchnorm=True)\n",
    "    network = MultiLayerNetExtend(input_size=784, hidden_size_list=[100, 100, 100, 100, 100], output_size=10,\n",
    "                                weight_init_std=weight_init_std)\n",
    "    optimizer = SGD(lr=learning_rate)\n",
    "    \n",
    "    train_acc_list = []\n",
    "    bn_train_acc_list = []\n",
    "    \n",
    "    iter_per_epoch = max(train_size / batch_size, 1)\n",
    "    epoch_cnt = 0\n",
    "    \n",
    "    for i in range(1000000000):\n",
    "        batch_mask = np.random.choice(train_size, batch_size)\n",
    "        x_batch = x_train[batch_mask]\n",
    "        t_batch = t_train[batch_mask]\n",
    "    \n",
    "        for _network in (bn_network, network):\n",
    "            grads = _network.gradient(x_batch, t_batch)\n",
    "            optimizer.update(_network.params, grads)\n",
    "    \n",
    "        if i % iter_per_epoch == 0:\n",
    "            train_acc = network.accuracy(x_train, t_train)\n",
    "            bn_train_acc = bn_network.accuracy(x_train, t_train)\n",
    "            train_acc_list.append(train_acc)\n",
    "            bn_train_acc_list.append(bn_train_acc)\n",
    "    \n",
    "            print(\"epoch:\" + str(epoch_cnt) + \" | \" + str(train_acc) + \" - \" + str(bn_train_acc))\n",
    "    \n",
    "            epoch_cnt += 1\n",
    "            if epoch_cnt >= max_epochs:\n",
    "                break\n",
    "                \n",
    "    return train_acc_list, bn_train_acc_list\n",
    "\n",
    "\n",
    "# 3.グラフの描画==========\n",
    "weight_scale_list = np.logspace(0, -4, num=16)\n",
    "x = np.arange(max_epochs)\n",
    "\n",
    "for i, w in enumerate(weight_scale_list):\n",
    "    print( \"============== \" + str(i+1) + \"/16\" + \" ==============\")\n",
    "    train_acc_list, bn_train_acc_list = __train(w)\n",
    "    \n",
    "    plt.subplot(4,4,i+1)\n",
    "    plt.figure(figsize=(4, 4))\n",
    "    plt.title(\"W:\" + str(w))\n",
    "    if i == 15:\n",
    "        plt.plot(x, bn_train_acc_list, label='Batch Normalization', markevery=2)\n",
    "        plt.plot(x, train_acc_list, linestyle = \"--\", label='Normal(without BatchNorm)', markevery=2)\n",
    "    else:\n",
    "        plt.plot(x, bn_train_acc_list, markevery=2)\n",
    "        plt.plot(x, train_acc_list, linestyle=\"--\", markevery=2)\n",
    "\n",
    "    plt.ylim(0, 1.0)\n",
    "    if i % 4:\n",
    "        plt.yticks([])\n",
    "    else:\n",
    "        plt.ylabel(\"accuracy\")\n",
    "    if i < 12:\n",
    "        plt.xticks([])\n",
    "    else:\n",
    "        plt.xlabel(\"epochs\")\n",
    "    plt.legend(loc='lower right')\n",
    "plt.tight_layout()    \n",
    "plt.show()"
   ]
  },
  {
   "cell_type": "markdown",
   "metadata": {},
   "source": [
    "### 過学習\n",
    "* パラメータを大量に持ち、表現力の高いモデルのこと\n",
    "* 訓練データが少ないこと\n",
    "\n",
    "### 過学習抑制のために使われる手法\n",
    "##### Weight decay(荷重減衰)\n",
    "* 大きな重みに対してペナルティを課すこと(例えばL２正則化)\n",
    "* L2正則化\n",
    "\n",
    "$$\\frac{1}{2}\\lambda{W^2}$$\n",
    "\n",
    "* 上記を損失関数に盛り込むことでペナルティを課すことができる\n",
    "\n",
    "##### Dropout\n",
    "* Weightdecayでも過学習を抑制することはできるが複雑になると厳しくなってくる\n",
    "* 隠れ層のニューロンをランダムに選び、それを削除する"
   ]
  },
  {
   "cell_type": "code",
   "execution_count": 16,
   "metadata": {},
   "outputs": [],
   "source": [
    "class Dropout:\n",
    "    def __init__(self, dropout_ratio=.5):\n",
    "        self.dropout_ratio = dropout_ratio\n",
    "        self.mask = None\n",
    "        \n",
    "    def forward(self, x, train_flg=True):\n",
    "        if train_flg:\n",
    "            self.mask = np.random.rand(*x.shape) > self.dropout_ratio\n",
    "            return x * self.mask\n",
    "        else:\n",
    "            return x * (1.0 - self.dropout_ratio)\n",
    "    \n",
    "    def backward(self, dout):\n",
    "        return dout * self.mask"
   ]
  },
  {
   "cell_type": "code",
   "execution_count": 17,
   "metadata": {},
   "outputs": [
    {
     "data": {
      "image/png": "[encoded data removed]",
      "text/plain": [
       "<Figure size 432x288 with 1 Axes>"
      ]
     },
     "metadata": {
      "needs_background": "light"
     },
     "output_type": "display_data"
    }
   ],
   "source": [
    "#Weight Decay\n",
    "from dataset.mnist import load_mnist\n",
    "from common.multi_layer_net import MultiLayerNet\n",
    "from common.optimizer import SGD\n",
    "\n",
    "(x_train, t_train), (x_test, t_test) = load_mnist(normalize=True)\n",
    "\n",
    "# 過学習を再現するために、学習データを削減\n",
    "x_train = x_train[:300]\n",
    "t_train = t_train[:300]\n",
    "\n",
    "# weight decay（荷重減衰）の設定 =======================\n",
    "#weight_decay_lambda = 0 # weight decayを使用しない場合\n",
    "weight_decay_lambda = 0.1\n",
    "# ====================================================\n",
    "\n",
    "network = MultiLayerNet(input_size=784, hidden_size_list=[100, 100, 100, 100, 100, 100], output_size=10,\n",
    "                        weight_decay_lambda=weight_decay_lambda)\n",
    "optimizer = SGD(lr=0.01)\n",
    "\n",
    "max_epochs = 201\n",
    "train_size = x_train.shape[0]\n",
    "batch_size = 100\n",
    "\n",
    "train_loss_list = []\n",
    "train_acc_list = []\n",
    "test_acc_list = []\n",
    "\n",
    "iter_per_epoch = max(train_size / batch_size, 1)\n",
    "epoch_cnt = 0\n",
    "\n",
    "for i in range(1000000000):\n",
    "    batch_mask = np.random.choice(train_size, batch_size)\n",
    "    x_batch = x_train[batch_mask]\n",
    "    t_batch = t_train[batch_mask]\n",
    "\n",
    "    grads = network.gradient(x_batch, t_batch)\n",
    "    optimizer.update(network.params, grads)\n",
    "\n",
    "    if i % iter_per_epoch == 0:\n",
    "        train_acc = network.accuracy(x_train, t_train)\n",
    "        test_acc = network.accuracy(x_test, t_test)\n",
    "        train_acc_list.append(train_acc)\n",
    "        test_acc_list.append(test_acc)\n",
    "\n",
    "        epoch_cnt += 1\n",
    "        if epoch_cnt >= max_epochs:\n",
    "            break\n",
    "\n",
    "\n",
    "# 3.グラフの描画==========\n",
    "markers = {'train': 'o', 'test': 's'}\n",
    "x = np.arange(max_epochs)\n",
    "plt.plot(x, train_acc_list, marker='o', label='train', markevery=10)\n",
    "plt.plot(x, test_acc_list, marker='s', label='test', markevery=10)\n",
    "plt.xlabel(\"epochs\")\n",
    "plt.ylabel(\"accuracy\")\n",
    "plt.ylim(0, 1.0)\n",
    "plt.legend(loc='lower right')\n",
    "plt.show()"
   ]
  },
  {
   "cell_type": "code",
   "execution_count": 18,
   "metadata": {},
   "outputs": [
    {
     "data": {
      "image/png": "[encoded data removed]",
      "text/plain": [
       "<Figure size 432x288 with 1 Axes>"
      ]
     },
     "metadata": {
      "needs_background": "light"
     },
     "output_type": "display_data"
    }
   ],
   "source": [
    "from dataset.mnist import load_mnist\n",
    "from common.multi_layer_net_extend import MultiLayerNetExtend\n",
    "from common.trainer import Trainer\n",
    "\n",
    "(x_train, t_train), (x_test, t_test) = load_mnist(normalize=True)\n",
    "\n",
    "# 過学習を再現するために、学習データを削減\n",
    "x_train = x_train[:300]\n",
    "t_train = t_train[:300]\n",
    "\n",
    "# Dropuoutの有無、割り合いの設定 ========================\n",
    "use_dropout = True  # Dropoutなしのときの場合はFalseに\n",
    "dropout_ratio = 0.2\n",
    "# ====================================================\n",
    "\n",
    "network = MultiLayerNetExtend(input_size=784, hidden_size_list=[100, 100, 100, 100, 100, 100],\n",
    "                              output_size=10, use_dropout=use_dropout, dropout_ration=dropout_ratio)\n",
    "trainer = Trainer(network, x_train, t_train, x_test, t_test,\n",
    "                  epochs=200, mini_batch_size=100,\n",
    "                  optimizer='sgd', optimizer_param={'lr': 0.01}, verbose=True)\n",
    "trainer.train()\n",
    "\n",
    "train_acc_list, test_acc_list = trainer.train_acc_list, trainer.test_acc_list\n",
    "\n",
    "# グラフの描画==========\n",
    "markers = {'train': 'o', 'test': 's'}\n",
    "x = np.arange(len(train_acc_list))\n",
    "plt.plot(x, train_acc_list, marker='o', label='train', markevery=10)\n",
    "plt.plot(x, test_acc_list, marker='s', label='test', markevery=10)\n",
    "plt.xlabel(\"epochs\")\n",
    "plt.ylabel(\"accuracy\")\n",
    "plt.ylim(0, 1.0)\n",
    "plt.legend(loc='lower right')\n",
    "plt.show()"
   ]
  },
  {
   "cell_type": "markdown",
   "metadata": {},
   "source": [
    "### ハイパーパラメータの検証\n",
    "* 例えば各層のニューロンの数やバッチサイズ、学習係数、weight decayなど\n",
    "\n",
    "### どのようにやるか\n",
    "\n",
    "##### Step1:ハイパーパラメータの範囲の設定\n",
    "##### Step2:設定された範囲から、ランダムにサンプリングする\n",
    "##### Step3: サンプリングされたハイパーパラメータを使用して、検証データで認識精度を評価\n",
    "##### Step4:上記の結果から範囲を狭める\n",
    "\n",
    "\n",
    "* **ベイズ最適化などがあげられる**"
   ]
  },
  {
   "cell_type": "code",
   "execution_count": 19,
   "metadata": {},
   "outputs": [],
   "source": [
    "weight_decay = 10 ** np.random.uniform(-8, -4)\n",
    "lr = 10 ** np.random.uniform(-6, -2)"
   ]
  },
  {
   "cell_type": "code",
   "execution_count": 20,
   "metadata": {},
   "outputs": [
    {
     "name": "stdout",
     "output_type": "stream",
     "text": [
      "4.021000279233949e-06\n",
      "8.877907171128783e-06\n"
     ]
    }
   ],
   "source": [
    "print(weight_decay)\n",
    "print(lr)"
   ]
  },
  {
   "cell_type": "code",
   "execution_count": 23,
   "metadata": {},
   "outputs": [
    {
     "name": "stdout",
     "output_type": "stream",
     "text": [
      "=========== Hyper-Parameter Optimization Result ===========\n",
      "Best-1(val acc:0.86) | lr:0.009695189934551419, weight decay:1.6949257483979023e-08\n",
      "Best-2(val acc:0.83) | lr:0.006989776886536146, weight decay:1.0035041762536191e-05\n",
      "Best-3(val acc:0.81) | lr:0.008818577604799415, weight decay:3.2009067798592434e-08\n",
      "Best-4(val acc:0.79) | lr:0.00689610109146116, weight decay:3.96922295241026e-06\n",
      "Best-5(val acc:0.73) | lr:0.0058570580920180165, weight decay:4.761705790789384e-05\n",
      "Best-6(val acc:0.72) | lr:0.00418114309304898, weight decay:8.872896430888578e-06\n",
      "Best-7(val acc:0.72) | lr:0.005862829746833364, weight decay:1.010451312962172e-07\n",
      "Best-8(val acc:0.71) | lr:0.006044097116467351, weight decay:7.124140915686742e-06\n",
      "Best-9(val acc:0.5) | lr:0.003933848356615893, weight decay:2.3391954985830473e-08\n",
      "Best-10(val acc:0.5) | lr:0.004514569985171686, weight decay:2.7191745841752793e-08\n",
      "Best-11(val acc:0.45) | lr:0.001991855848368272, weight decay:5.47833294671807e-06\n",
      "Best-12(val acc:0.45) | lr:0.0026232891770840124, weight decay:2.3532054765223243e-07\n",
      "Best-13(val acc:0.43) | lr:0.002567603696354497, weight decay:4.4376335070749123e-07\n",
      "Best-14(val acc:0.42) | lr:0.0031717628657057986, weight decay:1.8116480277971216e-07\n",
      "Best-15(val acc:0.37) | lr:0.0029677597873316607, weight decay:2.1541437539850627e-08\n",
      "Best-16(val acc:0.36) | lr:0.0015091653133311115, weight decay:2.2746734366818052e-07\n",
      "Best-17(val acc:0.36) | lr:0.002511559016369547, weight decay:1.3224551608548998e-05\n",
      "Best-18(val acc:0.31) | lr:0.0011093128945954141, weight decay:3.4543066268909425e-05\n",
      "Best-19(val acc:0.29) | lr:0.002439122002919636, weight decay:4.004603802250915e-08\n",
      "Best-20(val acc:0.26) | lr:0.0013070782145635524, weight decay:7.705135465104329e-07\n"
     ]
    },
    {
     "data": {
      "image/png": "[encoded data removed]",
      "text/plain": [
       "<Figure size 432x288 with 20 Axes>"
      ]
     },
     "metadata": {
      "needs_background": "light"
     },
     "output_type": "display_data"
    }
   ],
   "source": [
    "from dataset.mnist import load_mnist\n",
    "from common.multi_layer_net import MultiLayerNet\n",
    "from common.util import shuffle_dataset\n",
    "from common.trainer import Trainer\n",
    "\n",
    "(x_train, t_train), (x_test, t_test) = load_mnist(normalize=True)\n",
    "\n",
    "# 高速化のため訓練データの削減\n",
    "x_train = x_train[:500]\n",
    "t_train = t_train[:500]\n",
    "\n",
    "# 検証データの分離\n",
    "validation_rate = 0.20\n",
    "validation_num = int(x_train.shape[0] * validation_rate)\n",
    "x_train, t_train = shuffle_dataset(x_train, t_train)\n",
    "x_val = x_train[:validation_num]\n",
    "t_val = t_train[:validation_num]\n",
    "x_train = x_train[validation_num:]\n",
    "t_train = t_train[validation_num:]\n",
    "\n",
    "\n",
    "def __train(lr, weight_decay, epocs=50):\n",
    "    network = MultiLayerNet(input_size=784, hidden_size_list=[100, 100, 100, 100, 100, 100],\n",
    "                            output_size=10, weight_decay_lambda=weight_decay)\n",
    "    trainer = Trainer(network, x_train, t_train, x_val, t_val,\n",
    "                      epochs=epocs, mini_batch_size=100,\n",
    "                      optimizer='sgd', optimizer_param={'lr': lr}, verbose=False)\n",
    "    trainer.train()\n",
    "\n",
    "    return trainer.test_acc_list, trainer.train_acc_list\n",
    "\n",
    "\n",
    "# ハイパーパラメータのランダム探索======================================\n",
    "optimization_trial = 100\n",
    "results_val = {}\n",
    "results_train = {}\n",
    "for _ in range(optimization_trial):\n",
    "    # 探索したハイパーパラメータの範囲を指定===============\n",
    "    weight_decay = 10 ** np.random.uniform(-8, -4)\n",
    "    lr = 10 ** np.random.uniform(-6, -2)\n",
    "    # ================================================\n",
    "\n",
    "    val_acc_list, train_acc_list = __train(lr, weight_decay)\n",
    "#     print(\"val acc:\" + str(val_acc_list[-1]) + \" | lr:\" + str(lr) + \", weight decay:\" + str(weight_decay))\n",
    "    key = \"lr:\" + str(lr) + \", weight decay:\" + str(weight_decay)\n",
    "    results_val[key] = val_acc_list\n",
    "    results_train[key] = train_acc_list\n",
    "\n",
    "# グラフの描画========================================================\n",
    "print(\"=========== Hyper-Parameter Optimization Result ===========\")\n",
    "graph_draw_num = 20\n",
    "col_num = 5\n",
    "row_num = int(np.ceil(graph_draw_num / col_num))\n",
    "i = 0\n",
    "\n",
    "for key, val_acc_list in sorted(results_val.items(), key=lambda x:x[1][-1], reverse=True):\n",
    "    print(\"Best-\" + str(i+1) + \"(val acc:\" + str(val_acc_list[-1]) + \") | \" + key)\n",
    "\n",
    "    plt.subplot(row_num, col_num, i+1)\n",
    "    plt.title(\"Best-\" + str(i+1))\n",
    "    plt.ylim(0.0, 1.0)\n",
    "    if i % 5: plt.yticks([])\n",
    "    plt.xticks([])\n",
    "    x = np.arange(len(val_acc_list))\n",
    "    plt.plot(x, val_acc_list)\n",
    "    plt.plot(x, results_train[key], \"--\")\n",
    "    i += 1\n",
    "\n",
    "    if i >= graph_draw_num:\n",
    "        break\n",
    "plt.tight_layout()\n",
    "plt.show()"
   ]
  }
 ],
 "metadata": {
  "kernelspec": {
   "display_name": "Python 3",
   "language": "python",
   "name": "python3"
  },
  "language_info": {
   "codemirror_mode": {
    "name": "ipython",
    "version": 3
   },
   "file_extension": ".py",
   "mimetype": "text/x-python",
   "name": "python",
   "nbconvert_exporter": "python",
   "pygments_lexer": "ipython3",
   "version": "3.7.6"
  }
 },
 "nbformat": 4,
 "nbformat_minor": 4
}
